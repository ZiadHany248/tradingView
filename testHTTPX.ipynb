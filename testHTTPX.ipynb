{
 "cells": [
  {
   "cell_type": "code",
   "execution_count": 105,
   "id": "0c6cb8a7",
   "metadata": {},
   "outputs": [],
   "source": [
    "import httpx\n",
    "import asyncio\n",
    "import anyio\n",
    "import os\n",
    "from datetime import datetime\n",
    "import json\n",
    "import re"
   ]
  },
  {
   "cell_type": "code",
   "execution_count": 106,
   "id": "692f3158",
   "metadata": {},
   "outputs": [],
   "source": [
    "payloadPath = \"jsonFiles\\\\actualFiles\\\\canadaOscillatorsPayload.json\""
   ]
  },
  {
   "cell_type": "code",
   "execution_count": 107,
   "id": "98543b42",
   "metadata": {},
   "outputs": [],
   "source": [
    "file = open(payloadPath).read()"
   ]
  },
  {
   "cell_type": "code",
   "execution_count": 117,
   "id": "edd85459",
   "metadata": {},
   "outputs": [],
   "source": [
    "def extractCatName(country,payloadName):\n",
    "\n",
    "    \"\"\"\n",
    "    Description: Grabs the names of the tables from a fileName.\n",
    "    country: a string of the name of the country in question\n",
    "    \n",
    "    \"\"\"\n",
    "    myString = payloadName\n",
    "\n",
    "    \n",
    "    matchAgainst = '{}(.+?)Payload*'.format(country)\n",
    "    \n",
    "    n = re.search(matchAgainst,myString)\n",
    "    #print(n.group(1))\n",
    "    return n.group(1)\n",
    "    "
   ]
  },
  {
   "cell_type": "code",
   "execution_count": 118,
   "id": "bf0b9df5",
   "metadata": {},
   "outputs": [
    {
     "data": {
      "text/plain": [
       "'Oscillators'"
      ]
     },
     "execution_count": 118,
     "metadata": {},
     "output_type": "execute_result"
    }
   ],
   "source": [
    "extractCatName('canada','canadaOscillatorsPayload.json')"
   ]
  },
  {
   "cell_type": "code",
   "execution_count": 109,
   "id": "6c482760",
   "metadata": {},
   "outputs": [],
   "source": [
    "async def async_requests(client, payloadJSONs, url):\n",
    "    \n",
    "    resp_jsons = []\n",
    "    for payload in payloadJSONs:\n",
    "        with open(payload, 'r') as f:\n",
    "            \n",
    "            \n",
    "            conn = await client.post(url, data = f.read())\n",
    "            resp_jsons.append(conn.json())\n",
    "        \n",
    "    return resp_jsons\n"
   ]
  },
  {
   "cell_type": "code",
   "execution_count": 132,
   "id": "afcb0c90",
   "metadata": {},
   "outputs": [],
   "source": [
    "def getJsonFromDir(directory):\n",
    "    \n",
    "    payloadJSONs = []\n",
    "    \n",
    "    files_list = os.listdir(directory)\n",
    "    \n",
    "    for file in files_list:\n",
    "        \n",
    "        with open(directory + file, 'r') as f:\n",
    "            jstr = f.read()\n",
    "            \n",
    "            payloadJSONs.append([extractCatName('canada', file), json.loads(jstr)])\n",
    "            \n",
    "            \n",
    "    \n",
    "    return payloadJSONs"
   ]
  },
  {
   "cell_type": "code",
   "execution_count": 133,
   "id": "26ec5355",
   "metadata": {},
   "outputs": [
    {
     "data": {
      "text/plain": [
       "[['BalanceSheet',\n",
       "  {'columns': ['description',\n",
       "    'total_assets_fq',\n",
       "    'fundamental_currency_code',\n",
       "    'total_current_assets_fq',\n",
       "    'cash_n_short_term_invest_fq',\n",
       "    'total_liabilities_fq',\n",
       "    'total_debt_fq',\n",
       "    'net_debt_fq',\n",
       "    'total_equity_fq',\n",
       "    'current_ratio_fq',\n",
       "    'quick_ratio_fq',\n",
       "    'debt_to_equity_fq',\n",
       "    'cash_n_short_term_invest_to_total_debt_fq'],\n",
       "   'ignore_unknown_fields': False,\n",
       "   'options': {'lang': 'en'},\n",
       "   'range': [0, 100],\n",
       "   'sort': {'sortBy': 'market_cap_basic',\n",
       "    'sortOrder': 'desc',\n",
       "    'nullsFirst': False},\n",
       "   'preset': 'large_cap'}],\n",
       " ['CashFlow',\n",
       "  {'columns': ['description',\n",
       "    'cash_f_operating_activities_ttm',\n",
       "    'fundamental_currency_code',\n",
       "    'cash_f_investing_activities_ttm',\n",
       "    'cash_f_financing_activities_ttm',\n",
       "    'free_cash_flow_ttm',\n",
       "    'capital_expenditures_ttm'],\n",
       "   'ignore_unknown_fields': False,\n",
       "   'options': {'lang': 'en'},\n",
       "   'range': [0, 100],\n",
       "   'sort': {'sortBy': 'market_cap_basic',\n",
       "    'sortOrder': 'desc',\n",
       "    'nullsFirst': False},\n",
       "   'preset': 'large_cap'}],\n",
       " ['IncomeStatement',\n",
       "  {'columns': ['name',\n",
       "    'description',\n",
       "    'typespecs',\n",
       "    'total_revenue_ttm',\n",
       "    'fundamental_currency_code',\n",
       "    'total_revenue_yoy_growth_ttm',\n",
       "    'gross_profit_ttm',\n",
       "    'oper_income_ttm',\n",
       "    'net_income_ttm',\n",
       "    'ebitda_ttm',\n",
       "    'earnings_per_share_diluted_ttm',\n",
       "    'earnings_per_share_diluted_yoy_growth_ttm'],\n",
       "   'ignore_unknown_fields': False,\n",
       "   'options': {'lang': 'en'},\n",
       "   'range': [0, 100],\n",
       "   'sort': {'sortBy': 'market_cap_basic',\n",
       "    'sortOrder': 'desc',\n",
       "    'nullsFirst': False},\n",
       "   'preset': 'large_cap'}],\n",
       " ['Oscillators',\n",
       "  {'columns': ['description',\n",
       "    'Recommend.Other',\n",
       "    'RSI',\n",
       "    'Mom',\n",
       "    'AO',\n",
       "    'CCI20',\n",
       "    'Stoch.K',\n",
       "    'Stoch.D',\n",
       "    'MACD.macd',\n",
       "    'MACD.signal'],\n",
       "   'ignore_unknown_fields': False,\n",
       "   'options': {'lang': 'en'},\n",
       "   'range': [0, 100],\n",
       "   'sort': {'sortBy': 'market_cap_basic',\n",
       "    'sortOrder': 'desc',\n",
       "    'nullsFirst': False},\n",
       "   'preset': 'large_cap'}],\n",
       " ['Performance',\n",
       "  {'columns': ['description',\n",
       "    'close',\n",
       "    'currency',\n",
       "    'change',\n",
       "    'Perf.W',\n",
       "    'Perf.1M',\n",
       "    'Perf.3M',\n",
       "    'Perf.6M',\n",
       "    'Perf.YTD',\n",
       "    'Perf.Y',\n",
       "    'Perf.5Y',\n",
       "    'Perf.All',\n",
       "    'Volatility.W',\n",
       "    'Volatility.M'],\n",
       "   'ignore_unknown_fields': False,\n",
       "   'options': {'lang': 'en'},\n",
       "   'range': [0, 100],\n",
       "   'sort': {'sortBy': 'market_cap_basic',\n",
       "    'sortOrder': 'desc',\n",
       "    'nullsFirst': False},\n",
       "   'preset': 'large_cap'}],\n",
       " ['TrendFollowing',\n",
       "  {'columns': ['description',\n",
       "    'close',\n",
       "    'Recommend.MA',\n",
       "    'currency',\n",
       "    'SMA20',\n",
       "    'SMA50',\n",
       "    'SMA200',\n",
       "    'BB.upper',\n",
       "    'BB.lower'],\n",
       "   'ignore_unknown_fields': False,\n",
       "   'options': {'lang': 'en'},\n",
       "   'range': [0, 100],\n",
       "   'sort': {'sortBy': 'market_cap_basic',\n",
       "    'sortOrder': 'desc',\n",
       "    'nullsFirst': False},\n",
       "   'preset': 'large_cap'}],\n",
       " ['TrendFollow',\n",
       "  {'columns': ['description',\n",
       "    'close',\n",
       "    'Recommend.MA',\n",
       "    'currency',\n",
       "    'SMA20',\n",
       "    'SMA50',\n",
       "    'SMA200',\n",
       "    'BB.upper',\n",
       "    'BB.lower'],\n",
       "   'ignore_unknown_fields': False,\n",
       "   'options': {'lang': 'en'},\n",
       "   'range': [0, 100],\n",
       "   'sort': {'sortBy': 'market_cap_basic',\n",
       "    'sortOrder': 'desc',\n",
       "    'nullsFirst': False},\n",
       "   'preset': 'large_cap'}],\n",
       " ['Valuation',\n",
       "  {'columns': ['description',\n",
       "    'market_cap_basic',\n",
       "    'fundamental_currency_code',\n",
       "    'Perf.1Y.MarketCap',\n",
       "    'price_earnings_ttm',\n",
       "    'price_earnings_growth_ttm',\n",
       "    'price_sales_current',\n",
       "    'price_book_fq',\n",
       "    'price_to_cash_f_operating_activities_ttm',\n",
       "    'price_free_cash_flow_ttm',\n",
       "    'price_to_cash_ratio',\n",
       "    'enterprise_value_current',\n",
       "    'enterprise_value_to_revenue_ttm',\n",
       "    'enterprise_value_to_ebit_ttm',\n",
       "    'enterprise_value_ebitda_ttm'],\n",
       "   'ignore_unknown_fields': False,\n",
       "   'options': {'lang': 'en'},\n",
       "   'range': [0, 100],\n",
       "   'sort': {'sortBy': 'market_cap_basic',\n",
       "    'sortOrder': 'desc',\n",
       "    'nullsFirst': False},\n",
       "   'preset': 'large_cap'}]]"
      ]
     },
     "execution_count": 133,
     "metadata": {},
     "output_type": "execute_result"
    }
   ],
   "source": [
    "getJsonFromDir('E:\\\\webscr\\\\tradingView\\\\jsonFiles\\\\ActualFiles\\\\')"
   ]
  },
  {
   "cell_type": "code",
   "execution_count": 78,
   "id": "d54f13b3",
   "metadata": {
    "scrolled": true
   },
   "outputs": [
    {
     "name": "stdout",
     "output_type": "stream",
     "text": [
      "<Response [200 OK]>\n",
      "<Response [200 OK]>\n",
      "<Response [200 OK]>\n",
      "<Response [200 OK]>\n",
      "<Response [200 OK]>\n",
      "<Response [200 OK]>\n",
      "<Response [200 OK]>\n",
      "<Response [200 OK]>\n",
      "0:00:02.432907\n"
     ]
    }
   ],
   "source": [
    "async with httpx.AsyncClient() as client:\n",
    "    \n",
    "\n",
    "    resps_list = await async_requests(client, requests_list, \"https://scanner.tradingview.com//egypt//scan\")\n",
    "    \n"
   ]
  },
  {
   "cell_type": "code",
   "execution_count": 79,
   "id": "7e1fc657",
   "metadata": {},
   "outputs": [],
   "source": [
    "def countryAllCSVS(payloadsPath, country):\n",
    "    \n",
    "    tables = []\n",
    "    tablesCap = []\n",
    "    payloads = os.listdir(payloadsPath)\n",
    "    \n",
    "    \n",
    "    for payload in payloads:\n",
    "        tableName = extractCatName('canada',payload)\n",
    "        tablesCap.append(tableName)\n",
    "        tables.append(tableName.lower())\n",
    "    \n",
    "    \n",
    "    for table in tables:\n",
    "\n",
    "        for dic in dictsList:\n",
    "            \n",
    "            if dic['title'] == table:\n",
    "                \n",
    "                #print(\"{} == {}\".format(dic['title'],table))\n",
    "                payloadString = basePath + \"jsonFiles\\\\ActualFiles\\\\canada{}Payload.json\".format(tablesCap[tables.index(table)])\n",
    "                resp = getCountryTable((payloadString), country, reqRows = 20000)\n",
    "                createCsv(country+table.capitalize(), country[1], resp, dic, json.loads(open(basePath + 'jsonFiles\\\\ActualFiles\\\\canada{}Payload.json'.format(tablesCap[tables.index(table)])).read()))\n",
    "   \n",
    "    "
   ]
  },
  {
   "cell_type": "code",
   "execution_count": 80,
   "id": "5010ae9d",
   "metadata": {},
   "outputs": [],
   "source": [
    "def createCsv(fileName, country, response, valuesDict, payloadJSON):\n",
    "    \n",
    "    \"\"\"\n",
    "    Response: sever's response (JSON)\n",
    "    fileName: Name of file you'll be creating to write the result to\n",
    "    Columns: A list that will be written to the first row of the csv\n",
    "    \n",
    "    \"\"\"\n",
    "    \n",
    "    columns = craftColumns(valuesDict, payloadJSON)\n",
    "    if country not in os.listdir(basePath + 'csvs\\\\'):\n",
    "        os.mkdir(basePath + 'csvs\\\\{}'.format(country))\n",
    "\n",
    "    with open(basePath + 'csvs\\\\{}\\\\{}.csv'.format(country, fileName), 'w', newline='') as file:\n",
    "\n",
    "        \n",
    "        serverResp = response['data']\n",
    "        writer = csv.writer(file)\n",
    "        writer.writerow(columns)\n",
    "\n",
    "        for i in range(len(serverResp)):\n",
    "\n",
    "            writer.writerow(serverResp[i]['d'])"
   ]
  },
  {
   "cell_type": "code",
   "execution_count": 81,
   "id": "74b7cd9a",
   "metadata": {},
   "outputs": [],
   "source": [
    "def craftColumns(myDict, payloadJSON):\n",
    "    \n",
    "    \"\"\"\n",
    "    myDict: A hardcoded dicitionary that holds payload values and their corresponding manifistation on the page \n",
    "    myJSON: a json of the values sent in the payload\n",
    "    Returns: A list of the column names pulled from the page itself as opposed to keys used to address the API\n",
    "    \"\"\"\n",
    "    \n",
    "    pageVals = []\n",
    "    myColumns = payloadJSON['columns']\n",
    "    \n",
    "    for row in myColumns:\n",
    "        \n",
    "        if row in myDict.values():\n",
    "\n",
    "            for key,val in myDict.items():\n",
    "                \n",
    "\n",
    "                if val == row:\n",
    "                    pageVals.append(key)\n",
    "\n",
    "        else:\n",
    "            pageVals.append(row)\n",
    "\n",
    "    return pageVals"
   ]
  },
  {
   "cell_type": "code",
   "execution_count": null,
   "id": "6471db4d",
   "metadata": {},
   "outputs": [],
   "source": []
  },
  {
   "cell_type": "code",
   "execution_count": null,
   "id": "555f4467",
   "metadata": {},
   "outputs": [],
   "source": []
  },
  {
   "cell_type": "code",
   "execution_count": null,
   "id": "0d523092",
   "metadata": {},
   "outputs": [],
   "source": []
  },
  {
   "cell_type": "code",
   "execution_count": null,
   "id": "6abb3238",
   "metadata": {},
   "outputs": [],
   "source": []
  },
  {
   "cell_type": "code",
   "execution_count": null,
   "id": "0924c7f0",
   "metadata": {},
   "outputs": [],
   "source": []
  },
  {
   "cell_type": "code",
   "execution_count": 44,
   "id": "8f23da6e",
   "metadata": {},
   "outputs": [],
   "source": [
    "reli = os.listdir(\"jsonFiles\\\\actualFiles\")"
   ]
  },
  {
   "cell_type": "code",
   "execution_count": 45,
   "id": "3ede2b8b",
   "metadata": {},
   "outputs": [],
   "source": [
    "requests_list = [\"jsonFiles\\\\actualFiles\\\\\" + rel for rel in reli]"
   ]
  },
  {
   "cell_type": "code",
   "execution_count": 60,
   "id": "b06c8d08",
   "metadata": {},
   "outputs": [
    {
     "name": "stdout",
     "output_type": "stream",
     "text": [
      "{\"columns\":[\"description\",\"total_assets_fq\",\"fundamental_currency_code\",\"total_current_assets_fq\",\"cash_n_short_term_invest_fq\",\"total_liabilities_fq\",\"total_debt_fq\",\"net_debt_fq\",\"total_equity_fq\",\"current_ratio_fq\",\"quick_ratio_fq\",\"debt_to_equity_fq\",\"cash_n_short_term_invest_to_total_debt_fq\"],\"ignore_unknown_fields\":false,\"options\":{\"lang\":\"en\"},\"range\":[0,100],\"sort\":{\"sortBy\":\"market_cap_basic\",\"sortOrder\":\"desc\",\"nullsFirst\":false},\"preset\":\"large_cap\"}\n"
     ]
    }
   ],
   "source": [
    "with open(requests_list[0], 'r') as f:\n",
    "    print(f.read())\n",
    "    "
   ]
  },
  {
   "cell_type": "code",
   "execution_count": 46,
   "id": "ae18ceaf",
   "metadata": {},
   "outputs": [
    {
     "data": {
      "text/plain": [
       "['jsonFiles\\\\actualFiles\\\\canadaBalanceSheetPayload.json',\n",
       " 'jsonFiles\\\\actualFiles\\\\canadaCashFlowPayload.json',\n",
       " 'jsonFiles\\\\actualFiles\\\\canadaIncomeStatementPayload.json',\n",
       " 'jsonFiles\\\\actualFiles\\\\canadaOscillatorsPayload.json',\n",
       " 'jsonFiles\\\\actualFiles\\\\canadaPerformancePayload.json',\n",
       " 'jsonFiles\\\\actualFiles\\\\canadaTrendFollowingPayload.json',\n",
       " 'jsonFiles\\\\actualFiles\\\\canadaTrendFollowPayload.json',\n",
       " 'jsonFiles\\\\actualFiles\\\\canadaValuationPayload.json']"
      ]
     },
     "execution_count": 46,
     "metadata": {},
     "output_type": "execute_result"
    }
   ],
   "source": [
    "requests_list"
   ]
  }
 ],
 "metadata": {
  "kernelspec": {
   "display_name": "Python 3 (ipykernel)",
   "language": "python",
   "name": "python3"
  },
  "language_info": {
   "codemirror_mode": {
    "name": "ipython",
    "version": 3
   },
   "file_extension": ".py",
   "mimetype": "text/x-python",
   "name": "python",
   "nbconvert_exporter": "python",
   "pygments_lexer": "ipython3",
   "version": "3.9.7"
  }
 },
 "nbformat": 4,
 "nbformat_minor": 5
}
